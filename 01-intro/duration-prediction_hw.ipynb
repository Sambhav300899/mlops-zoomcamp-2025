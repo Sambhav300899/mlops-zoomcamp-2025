{
 "cells": [
  {
   "cell_type": "code",
   "execution_count": 1,
   "id": "41062d8a",
   "metadata": {},
   "outputs": [],
   "source": [
    "import pandas as pd\n",
    "from sklearn.feature_extraction import DictVectorizer\n",
    "from sklearn.linear_model import LinearRegression\n",
    "from sklearn.metrics import root_mean_squared_error"
   ]
  },
  {
   "cell_type": "markdown",
   "id": "01c23dc7",
   "metadata": {},
   "source": [
    "**Info on column names** - https://www.nyc.gov/assets/tlc/downloads/pdf/data_dictionary_trip_records_green.pdf"
   ]
  },
  {
   "cell_type": "markdown",
   "id": "6a44865f",
   "metadata": {},
   "source": [
    "In case of errors, comment capture to check the output"
   ]
  },
  {
   "cell_type": "code",
   "execution_count": 2,
   "id": "18a79650",
   "metadata": {},
   "outputs": [],
   "source": [
    "%%capture\n",
    "!wget -nc https://d37ci6vzurychx.cloudfront.net/trip-data/yellow_tripdata_2023-01.parquet -P data/\n",
    "!wget -nc https://d37ci6vzurychx.cloudfront.net/trip-data/yellow_tripdata_2023-02.parquet -P data/"
   ]
  },
  {
   "cell_type": "markdown",
   "id": "ee49da47",
   "metadata": {},
   "source": [
    "## Question 1 - Downloading the data\n",
    "Read the data for January. How many columns are there?"
   ]
  },
  {
   "cell_type": "code",
   "execution_count": 3,
   "id": "865b62cf",
   "metadata": {},
   "outputs": [
    {
     "name": "stdout",
     "output_type": "stream",
     "text": [
      "Number of columns in January data: 19\n"
     ]
    }
   ],
   "source": [
    "jan_df = pd.read_parquet('./data/yellow_tripdata_2023-01.parquet')\n",
    "\n",
    "print ('Number of columns in January data:', len(jan_df.columns))"
   ]
  },
  {
   "cell_type": "markdown",
   "id": "b7ffe914",
   "metadata": {},
   "source": [
    "## Question 2 - Computing duration\n",
    "Now let's compute the duration variable. It should contain the duration of a ride in minutes.\n",
    "\n",
    "What's the standard deviation of the trips duration in January?"
   ]
  },
  {
   "cell_type": "code",
   "execution_count": 4,
   "id": "67e7b646",
   "metadata": {},
   "outputs": [
    {
     "name": "stdout",
     "output_type": "stream",
     "text": [
      "Standard deviation of the trips duration in January: 42.59\n"
     ]
    }
   ],
   "source": [
    "jan_df['duration'] = jan_df.tpep_dropoff_datetime - jan_df.tpep_pickup_datetime\n",
    "jan_df.duration = jan_df.duration.apply(lambda td: td.total_seconds() / 60)\n",
    "\n",
    "print ('Standard deviation of the trips duration in January:', round(jan_df.duration.std(), 2))"
   ]
  },
  {
   "cell_type": "markdown",
   "id": "22dbd26f",
   "metadata": {},
   "source": [
    "## Question 3 - Dropping outliers\n",
    "Next, we need to check the distribution of the duration variable. There are some outliers. Let's remove them and keep only the records where the duration was between 1 and 60 minutes (inclusive).\n",
    "\n",
    "What fraction of the records left after you dropped the outliers?"
   ]
  },
  {
   "cell_type": "code",
   "execution_count": 5,
   "id": "1f3e37f3",
   "metadata": {},
   "outputs": [
    {
     "name": "stdout",
     "output_type": "stream",
     "text": [
      "fraction of records left after dropping outliers: 98.0 %\n"
     ]
    }
   ],
   "source": [
    "jan_df_filtered = jan_df[(jan_df.duration >= 1) & (jan_df.duration <= 60)].copy()\n",
    "\n",
    "print (\"fraction of records left after dropping outliers:\", round(len(jan_df_filtered) / len(jan_df), 2) * 100, \"%\")"
   ]
  },
  {
   "cell_type": "markdown",
   "id": "c0aa5bfe",
   "metadata": {},
   "source": [
    "## Question 4 - One-hot encoding\n",
    "\n",
    "Let's apply one-hot encoding to the pickup and dropoff location IDs. We'll use only these two features for our model.\n",
    "\n",
    "- Turn the dataframe into a list of dictionaries (remember to re-cast the ids to strings - otherwise it will label encode them)\n",
    "- Fit a dictionary vectorizer\n",
    "- Get a feature matrix from it\n",
    "\n",
    "What's the dimensionality of this matrix (number of columns)?"
   ]
  },
  {
   "cell_type": "code",
   "execution_count": 6,
   "id": "ec2b020b",
   "metadata": {},
   "outputs": [
    {
     "name": "stdout",
     "output_type": "stream",
     "text": [
      "Sample of train_dicts: [{'PULocationID': '161', 'DOLocationID': '141'}, {'PULocationID': '43', 'DOLocationID': '237'}]\n",
      "Shape of X_train: (3009173, 515)\n",
      "Num columns in X_train: 515\n"
     ]
    }
   ],
   "source": [
    "categorical = ['PULocationID', 'DOLocationID']\n",
    "jan_df_filtered[categorical] = jan_df_filtered[categorical].astype(str)\n",
    "\n",
    "train_dicts = jan_df_filtered[categorical].to_dict(orient='records')\n",
    "\n",
    "dv = DictVectorizer()\n",
    "X_train = dv.fit_transform(train_dicts)\n",
    "\n",
    "print (\"Sample of train_dicts:\", train_dicts[:2])\n",
    "print (\"Shape of X_train:\", X_train.shape)\n",
    "print (\"Num columns in X_train:\", X_train.shape[1])"
   ]
  },
  {
   "cell_type": "markdown",
   "id": "d7eb83be",
   "metadata": {},
   "source": [
    "The DictVectorizer creates one column per unique value in each categorical feature, using binary (0/1) values to indicate presence/absence. For any numerical features included, it preserves them as-is in additional columns at the end of the matrix."
   ]
  },
  {
   "cell_type": "markdown",
   "id": "96e8b445",
   "metadata": {},
   "source": [
    "# Question 5 - Training a model\n",
    "\n",
    "Now let's use the feature matrix from the previous step to train a model.\n",
    "\n",
    "- Train a plain linear regression model with default parameters, where duration is the response variable\n",
    "- Calculate the RMSE of the model on the training data\n",
    "\n",
    "What's the RMSE on train?"
   ]
  },
  {
   "cell_type": "code",
   "execution_count": 7,
   "id": "660c7b8f",
   "metadata": {},
   "outputs": [],
   "source": [
    "target = 'duration'\n",
    "y_train = jan_df_filtered[target].values\n",
    "\n",
    "lr = LinearRegression()\n",
    "lr.fit(X_train, y_train)\n",
    "\n",
    "y_pred = lr.predict(X_train)\n",
    "rmse = root_mean_squared_error(y_train, y_pred)"
   ]
  },
  {
   "cell_type": "code",
   "execution_count": 8,
   "id": "b352ff33",
   "metadata": {},
   "outputs": [
    {
     "name": "stdout",
     "output_type": "stream",
     "text": [
      "RMSE: 7.649\n"
     ]
    }
   ],
   "source": [
    "print (f\"RMSE: {round(rmse, 3)}\")"
   ]
  },
  {
   "cell_type": "markdown",
   "id": "81a22558",
   "metadata": {},
   "source": [
    "## Question 6 - Evaluating the model\n",
    "\n",
    "Now let's apply this model to the validation dataset (February 2023).\n",
    "\n",
    "What's the RMSE on validation?"
   ]
  },
  {
   "cell_type": "code",
   "execution_count": 9,
   "id": "75eb9d6c",
   "metadata": {},
   "outputs": [
    {
     "name": "stdout",
     "output_type": "stream",
     "text": [
      "Val RMSE: 7.812\n"
     ]
    }
   ],
   "source": [
    "feb_df = pd.read_parquet('./data/yellow_tripdata_2023-02.parquet')\n",
    "\n",
    "feb_df['duration'] = feb_df.tpep_dropoff_datetime - feb_df.tpep_pickup_datetime\n",
    "feb_df.duration = feb_df.duration.apply(lambda td: td.total_seconds() / 60)\n",
    "\n",
    "feb_df_filtered = feb_df[(feb_df.duration >= 1) & (feb_df.duration <= 60)].copy()\n",
    "feb_df_filtered[categorical] = feb_df_filtered[categorical].astype(str)\n",
    "\n",
    "val_dicts = feb_df_filtered[categorical].to_dict(orient='records')\n",
    "X_val = dv.transform(val_dicts)\n",
    "y_val = feb_df_filtered[target].values\n",
    "\n",
    "val_preds = lr.predict(X_val)\n",
    "rmse = root_mean_squared_error(y_val, val_preds)\n",
    "\n",
    "print (f\"Val RMSE: {round(rmse, 3)}\")"
   ]
  },
  {
   "cell_type": "code",
   "execution_count": null,
   "id": "497eefe0",
   "metadata": {},
   "outputs": [],
   "source": []
  }
 ],
 "metadata": {
  "kernelspec": {
   "display_name": "venv",
   "language": "python",
   "name": "python3"
  },
  "language_info": {
   "codemirror_mode": {
    "name": "ipython",
    "version": 3
   },
   "file_extension": ".py",
   "mimetype": "text/x-python",
   "name": "python",
   "nbconvert_exporter": "python",
   "pygments_lexer": "ipython3",
   "version": "3.10.12"
  }
 },
 "nbformat": 4,
 "nbformat_minor": 5
}
